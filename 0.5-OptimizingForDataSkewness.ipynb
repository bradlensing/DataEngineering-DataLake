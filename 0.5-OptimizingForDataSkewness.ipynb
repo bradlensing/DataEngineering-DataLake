{
 "metadata": {
  "language_info": {
   "codemirror_mode": {
    "name": "ipython",
    "version": 3
   },
   "file_extension": ".py",
   "mimetype": "text/x-python",
   "name": "python",
   "nbconvert_exporter": "python",
   "pygments_lexer": "ipython3",
   "version": "3.9.1"
  },
  "orig_nbformat": 2,
  "kernelspec": {
   "name": "python391jvsc74a57bd0ced2337b2754c651e4027dd7a892de1e779f91f3b670f4fbb5e8ffa7de9e14e2",
   "display_name": "Python 3.9.1 64-bit ('3.9.1': pyenv)"
  }
 },
 "nbformat": 4,
 "nbformat_minor": 2,
 "cells": [
  {
   "source": [
    "# Section 1 With Pandas | Section 2 with Spark\n",
    "## Reading Data using Pandas"
   ],
   "cell_type": "markdown",
   "metadata": {}
  },
  {
   "cell_type": "code",
   "execution_count": 1,
   "metadata": {},
   "outputs": [],
   "source": [
    "import pandas as pd"
   ]
  },
  {
   "cell_type": "code",
   "execution_count": 3,
   "metadata": {},
   "outputs": [
    {
     "output_type": "stream",
     "name": "stderr",
     "text": [
      "/Users/brad/.pyenv/versions/3.9.1/lib/python3.9/site-packages/IPython/core/interactiveshell.py:3155: DtypeWarning: Columns (19,30,39,41,42,43) have mixed types.Specify dtype option on import or set low_memory=False.\n  has_raised = await self.run_ast_nodes(code_ast.body, cell_name,\n"
     ]
    },
    {
     "output_type": "execute_result",
     "data": {
      "text/plain": [
       "Index(['Unnamed: 0', 'Summons_Number', 'Plate_ID', 'Registration_State',\n",
       "       'Plate_Type', 'Issue_Date', 'Violation_Code', 'Vehicle_Body_Type',\n",
       "       'Vehicle_Make', 'Issuing_Agency', 'Street_Code1', 'Street_Code2',\n",
       "       'Street_Code3', 'Vehicle_Expiration_Date', 'Violation_Location',\n",
       "       'Violation_Precinct', 'Issuer_Precinct', 'Issuer_Code',\n",
       "       'Issuer_Command', 'Issuer_Squad', 'Violation_Time',\n",
       "       'Time_First_Observed', 'Violation_County',\n",
       "       'Violation_In_Front_Of_Or_Opposite', 'House_Number', 'Street_Name',\n",
       "       'Intersecting_Street', 'Date_First_Observed', 'Law_Section',\n",
       "       'Sub_Division', 'Violation_Legal_Code', 'Days_Parking_In_Effect____',\n",
       "       'From_Hours_In_Effect', 'To_Hours_In_Effect', 'Vehicle_Color',\n",
       "       'Unregistered_Vehicle?', 'Vehicle_Year', 'Meter_Number',\n",
       "       'Feet_From_Curb', 'Violation_Post_Code', 'Violation_Description',\n",
       "       'No_Standing_or_Stopping_Violation', 'Hydrant_Violation',\n",
       "       'Double_Parking_Violation', 'Latitude', 'Longitude', 'Community_Board',\n",
       "       'Community_Council_', 'Census_Tract', 'BIN', 'BBL', 'NTA', 'year',\n",
       "       'month'],\n",
       "      dtype='object')"
      ]
     },
     "metadata": {},
     "execution_count": 3
    }
   ],
   "source": [
    "df = pd.read_csv('_data/parking_violation.csv')\n",
    "df.columns"
   ]
  },
  {
   "cell_type": "code",
   "execution_count": 4,
   "metadata": {},
   "outputs": [
    {
     "output_type": "execute_result",
     "data": {
      "text/plain": [
       "2015    5986831\n",
       "2014    5821043\n",
       "2013        592\n",
       "2000        261\n",
       "2012        189\n",
       "2011        122\n",
       "2010        110\n",
       "2001         22\n",
       "2004         22\n",
       "2005         14\n",
       "2008          6\n",
       "2009          3\n",
       "2006          3\n",
       "2007          3\n",
       "2003          3\n",
       "2002          3\n",
       "1988          3\n",
       "1986          1\n",
       "1991          1\n",
       "1985          1\n",
       "Name: year, dtype: int64"
      ]
     },
     "metadata": {},
     "execution_count": 4
    }
   ],
   "source": [
    "df.year.value_counts()"
   ]
  },
  {
   "cell_type": "code",
   "execution_count": 5,
   "metadata": {},
   "outputs": [
    {
     "output_type": "execute_result",
     "data": {
      "text/plain": [
       "1     1392992\n",
       "6     1276592\n",
       "5     1040148\n",
       "9     1029583\n",
       "7      969938\n",
       "10     966456\n",
       "3      965119\n",
       "4      951716\n",
       "8      911641\n",
       "11     798897\n",
       "12     774287\n",
       "2      731864\n",
       "Name: month, dtype: int64"
      ]
     },
     "metadata": {},
     "execution_count": 5
    }
   ],
   "source": [
    "df.month.value_counts()"
   ]
  },
  {
   "cell_type": "code",
   "execution_count": 6,
   "metadata": {},
   "outputs": [
    {
     "output_type": "execute_result",
     "data": {
      "text/plain": [
       "NY    9193289\n",
       "NJ    1080414\n",
       "PA     298877\n",
       "CT     160361\n",
       "FL     148868\n",
       "       ...   \n",
       "SK         26\n",
       "NF         18\n",
       "FO         10\n",
       "NT          6\n",
       "YT          6\n",
       "Name: Registration_State, Length: 69, dtype: int64"
      ]
     },
     "metadata": {},
     "execution_count": 6
    }
   ],
   "source": [
    "df.Registration_State.value_counts()"
   ]
  },
  {
   "source": [
    "## Reading the data with Spark"
   ],
   "cell_type": "markdown",
   "metadata": {}
  },
  {
   "cell_type": "code",
   "execution_count": 7,
   "metadata": {},
   "outputs": [],
   "source": [
    "from pyspark.sql import SparkSession\n",
    "import pyspark.sql.functions as f"
   ]
  },
  {
   "cell_type": "code",
   "execution_count": 10,
   "metadata": {},
   "outputs": [
    {
     "output_type": "execute_result",
     "data": {
      "text/plain": [
       "DataFrame[_c0: string, _c1: string, _c2: string, _c3: string, _c4: string, _c5: string, _c6: string, _c7: string, _c8: string, _c9: string, _c10: string, _c11: string, _c12: string, _c13: string, _c14: string, _c15: string, _c16: string, _c17: string, _c18: string, _c19: string, _c20: string, _c21: string, _c22: string, _c23: string, _c24: string, _c25: string, _c26: string, _c27: string, _c28: string, _c29: string, _c30: string, _c31: string, _c32: string, _c33: string, _c34: string, _c35: string, _c36: string, _c37: string, _c38: string, _c39: string, _c40: string, _c41: string, _c42: string, _c43: string, _c44: string, _c45: string, _c46: string, _c47: string, _c48: string, _c49: string, _c50: string, _c51: string, _c52: string, _c53: string]"
      ]
     },
     "metadata": {},
     "execution_count": 10
    }
   ],
   "source": [
    "spark = SparkSession.builder.appName('cities').getOrCreate()\n",
    "spark_df = spark.read.csv('_data/parking_violation.csv')\n",
    "spark_df.repartition(2)"
   ]
  },
  {
   "cell_type": "code",
   "execution_count": 13,
   "metadata": {},
   "outputs": [
    {
     "output_type": "execute_result",
     "data": {
      "text/plain": [
       "Row(_c0=None, _c1='Summons_Number', _c2='Plate_ID', _c3='Registration_State', _c4='Plate_Type', _c5='Issue_Date', _c6='Violation_Code', _c7='Vehicle_Body_Type', _c8='Vehicle_Make', _c9='Issuing_Agency', _c10='Street_Code1', _c11='Street_Code2', _c12='Street_Code3', _c13='Vehicle_Expiration_Date', _c14='Violation_Location', _c15='Violation_Precinct', _c16='Issuer_Precinct', _c17='Issuer_Code', _c18='Issuer_Command', _c19='Issuer_Squad', _c20='Violation_Time', _c21='Time_First_Observed', _c22='Violation_County', _c23='Violation_In_Front_Of_Or_Opposite', _c24='House_Number', _c25='Street_Name', _c26='Intersecting_Street', _c27='Date_First_Observed', _c28='Law_Section', _c29='Sub_Division', _c30='Violation_Legal_Code', _c31='Days_Parking_In_Effect____', _c32='From_Hours_In_Effect', _c33='To_Hours_In_Effect', _c34='Vehicle_Color', _c35='Unregistered_Vehicle?', _c36='Vehicle_Year', _c37='Meter_Number', _c38='Feet_From_Curb', _c39='Violation_Post_Code', _c40='Violation_Description', _c41='No_Standing_or_Stopping_Violation', _c42='Hydrant_Violation', _c43='Double_Parking_Violation', _c44='Latitude', _c45='Longitude', _c46='Community_Board', _c47='Community_Council_', _c48='Census_Tract', _c49='BIN', _c50='BBL', _c51='NTA', _c52='year', _c53='month')"
      ]
     },
     "metadata": {},
     "execution_count": 13
    }
   ],
   "source": [
    "spark_df.head()"
   ]
  },
  {
   "cell_type": "code",
   "execution_count": null,
   "metadata": {},
   "outputs": [],
   "source": []
  }
 ]
}