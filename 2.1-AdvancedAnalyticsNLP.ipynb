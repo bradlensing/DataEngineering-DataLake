{
 "metadata": {
  "language_info": {
   "codemirror_mode": {
    "name": "ipython",
    "version": 3
   },
   "file_extension": ".py",
   "mimetype": "text/x-python",
   "name": "python",
   "nbconvert_exporter": "python",
   "pygments_lexer": "ipython3",
   "version": "3.9.1"
  },
  "orig_nbformat": 2,
  "kernelspec": {
   "name": "python391jvsc74a57bd0ced2337b2754c651e4027dd7a892de1e779f91f3b670f4fbb5e8ffa7de9e14e2",
   "display_name": "Python 3.9.1 64-bit ('3.9.1': pyenv)"
  }
 },
 "nbformat": 4,
 "nbformat_minor": 2,
 "cells": [
  {
   "source": [
    "## Advanced Analytics: NLP\n",
    "\n",
    "- John Snow Labs : Docs & Pipelines | https://nlp.johnsnowlabs.com/docs/en/pipelines#recognize_entities_dl\n",
    "- Example : https://index.scala-lang.org/johnsnowlabs/spark-nlp/spark-nlp/3.0.0?target=_2.12"
   ],
   "cell_type": "markdown",
   "metadata": {}
  },
  {
   "source": [
    "# !pip install spark-nlp==3.0.0"
   ],
   "cell_type": "code",
   "metadata": {},
   "execution_count": null,
   "outputs": []
  },
  {
   "cell_type": "code",
   "execution_count": 1,
   "metadata": {},
   "outputs": [],
   "source": [
    "import pandas as pd\n",
    "pd.set_option('max_colwidth', 800)"
   ]
  },
  {
   "source": [
    "## Create a spark context that includes a 3rd party jar for NLP"
   ],
   "cell_type": "markdown",
   "metadata": {}
  },
  {
   "cell_type": "code",
   "execution_count": 2,
   "metadata": {},
   "outputs": [
    {
     "output_type": "execute_result",
     "data": {
      "text/plain": [
       "<pyspark.sql.session.SparkSession at 0x11d06d8e0>"
      ],
      "text/html": "\n            <div>\n                <p><b>SparkSession - in-memory</b></p>\n                \n        <div>\n            <p><b>SparkContext</b></p>\n\n            <p><a href=\"http://brads-mbp.lan:4040\">Spark UI</a></p>\n\n            <dl>\n              <dt>Version</dt>\n                <dd><code>v3.0.2</code></dd>\n              <dt>Master</dt>\n                <dd><code>local[4]</code></dd>\n              <dt>AppName</dt>\n                <dd><code>Spark NLP</code></dd>\n            </dl>\n        </div>\n        \n            </div>\n        "
     },
     "metadata": {},
     "execution_count": 2
    }
   ],
   "source": [
    "#jarPath = \"spark-nlp-assembly-1.7.3.jar\"\n",
    "\n",
    "from pyspark.sql import SparkSession\n",
    "spark = SparkSession.builder \\\n",
    "    .appName(\"Spark NLP\")\\\n",
    "    .master(\"local[4]\")\\\n",
    "    .config(\"spark.driver.memory\",\"16G\")\\\n",
    "    .config(\"spark.driver.maxResultSize\", \"0\") \\\n",
    "    .config(\"spark.kryoserializer.buffer.max\", \"2000M\")\\\n",
    "    .config(\"spark.jars.packages\", \"com.johnsnowlabs.nlp:spark-nlp_2.12:3.0.0\") \\\n",
    "    .getOrCreate()\n",
    "spark"
   ]
  },
  {
   "source": [
    "## Read multiple files in a dir as one Dataframe"
   ],
   "cell_type": "markdown",
   "metadata": {}
  },
  {
   "cell_type": "code",
   "execution_count": 3,
   "metadata": {},
   "outputs": [
    {
     "output_type": "stream",
     "name": "stdout",
     "text": [
      "216930\nroot\n |-- air_date: string (nullable = true)\n |-- answer: string (nullable = true)\n |-- category: string (nullable = true)\n |-- question: string (nullable = true)\n |-- round: string (nullable = true)\n |-- show_number: string (nullable = true)\n |-- value: string (nullable = true)\n\n"
     ]
    }
   ],
   "source": [
    "dataPath = \"_data/JEOPARDY_QUESTIONS1.json\"\n",
    "df = spark.read.json(dataPath)\n",
    "print(df.count())\n",
    "df.printSchema()"
   ]
  },
  {
   "cell_type": "code",
   "execution_count": 4,
   "metadata": {},
   "outputs": [
    {
     "output_type": "execute_result",
     "data": {
      "text/plain": [
       "                                                                                                        question  \\\n",
       "0             'For the last 8 years of his life, Galileo was under house arrest for espousing this man's theory'   \n",
       "1  'No. 2: 1912 Olympian; football star at Carlisle Indian School; 6 MLB seasons with the Reds, Giants & Braves'   \n",
       "2                     'The city of Yuma in this state has a record average of 4,055 hours of sunshine each year'   \n",
       "3                         'In 1963, live on \"The Art Linkletter Show\", this company served its billionth burger'   \n",
       "4     'Signer of the Dec. of Indep., framer of the Constitution of Mass., second President of the United States'   \n",
       "\n",
       "        answer  \n",
       "0   Copernicus  \n",
       "1   Jim Thorpe  \n",
       "2      Arizona  \n",
       "3  McDonald\\'s  \n",
       "4   John Adams  "
      ],
      "text/html": "<div>\n<style scoped>\n    .dataframe tbody tr th:only-of-type {\n        vertical-align: middle;\n    }\n\n    .dataframe tbody tr th {\n        vertical-align: top;\n    }\n\n    .dataframe thead th {\n        text-align: right;\n    }\n</style>\n<table border=\"1\" class=\"dataframe\">\n  <thead>\n    <tr style=\"text-align: right;\">\n      <th></th>\n      <th>question</th>\n      <th>answer</th>\n    </tr>\n  </thead>\n  <tbody>\n    <tr>\n      <th>0</th>\n      <td>'For the last 8 years of his life, Galileo was under house arrest for espousing this man's theory'</td>\n      <td>Copernicus</td>\n    </tr>\n    <tr>\n      <th>1</th>\n      <td>'No. 2: 1912 Olympian; football star at Carlisle Indian School; 6 MLB seasons with the Reds, Giants &amp; Braves'</td>\n      <td>Jim Thorpe</td>\n    </tr>\n    <tr>\n      <th>2</th>\n      <td>'The city of Yuma in this state has a record average of 4,055 hours of sunshine each year'</td>\n      <td>Arizona</td>\n    </tr>\n    <tr>\n      <th>3</th>\n      <td>'In 1963, live on \"The Art Linkletter Show\", this company served its billionth burger'</td>\n      <td>McDonald\\'s</td>\n    </tr>\n    <tr>\n      <th>4</th>\n      <td>'Signer of the Dec. of Indep., framer of the Constitution of Mass., second President of the United States'</td>\n      <td>John Adams</td>\n    </tr>\n  </tbody>\n</table>\n</div>"
     },
     "metadata": {},
     "execution_count": 4
    }
   ],
   "source": [
    "question = \"question\"\n",
    "answer = \"answer\"\n",
    "df01 = df.select(question, answer)\n",
    "df01.limit(5).toPandas()"
   ]
  },
  {
   "source": [
    "## Try to implement the equivalent of flatMap in dataframes, count word occurances"
   ],
   "cell_type": "markdown",
   "metadata": {}
  },
  {
   "cell_type": "code",
   "execution_count": 5,
   "metadata": {},
   "outputs": [
    {
     "output_type": "execute_result",
     "data": {
      "text/plain": [
       "   word   count\n",
       "0   the  146765\n",
       "1    of  111318\n",
       "2  this   94651\n",
       "3    in   78480\n",
       "4     a   76153\n",
       "5    to   48533\n",
       "6     &   44702\n",
       "7   for   34556\n",
       "8    is   33310\n",
       "9   was   29059"
      ],
      "text/html": "<div>\n<style scoped>\n    .dataframe tbody tr th:only-of-type {\n        vertical-align: middle;\n    }\n\n    .dataframe tbody tr th {\n        vertical-align: top;\n    }\n\n    .dataframe thead th {\n        text-align: right;\n    }\n</style>\n<table border=\"1\" class=\"dataframe\">\n  <thead>\n    <tr style=\"text-align: right;\">\n      <th></th>\n      <th>word</th>\n      <th>count</th>\n    </tr>\n  </thead>\n  <tbody>\n    <tr>\n      <th>0</th>\n      <td>the</td>\n      <td>146765</td>\n    </tr>\n    <tr>\n      <th>1</th>\n      <td>of</td>\n      <td>111318</td>\n    </tr>\n    <tr>\n      <th>2</th>\n      <td>this</td>\n      <td>94651</td>\n    </tr>\n    <tr>\n      <th>3</th>\n      <td>in</td>\n      <td>78480</td>\n    </tr>\n    <tr>\n      <th>4</th>\n      <td>a</td>\n      <td>76153</td>\n    </tr>\n    <tr>\n      <th>5</th>\n      <td>to</td>\n      <td>48533</td>\n    </tr>\n    <tr>\n      <th>6</th>\n      <td>&amp;</td>\n      <td>44702</td>\n    </tr>\n    <tr>\n      <th>7</th>\n      <td>for</td>\n      <td>34556</td>\n    </tr>\n    <tr>\n      <th>8</th>\n      <td>is</td>\n      <td>33310</td>\n    </tr>\n    <tr>\n      <th>9</th>\n      <td>was</td>\n      <td>29059</td>\n    </tr>\n  </tbody>\n</table>\n</div>"
     },
     "metadata": {},
     "execution_count": 5
    }
   ],
   "source": [
    "import pyspark.sql.functions as f\n",
    "\n",
    "# 1st split on white spaces f.split(question, \"\\\\s+\". Which becomes an array. Then you explode the array and every element in the array becomes a line. Then just name, group and count.\n",
    "dfWordCount = df.select(f.explode(f.split(question, \"\\\\s+\")).alias(\"word\")).groupBy(\"word\").count().orderBy(f.desc(\"count\"))\n",
    "dfWordCount.limit(10).toPandas()"
   ]
  },
  {
   "source": [
    "## The goal was to get popular topics but getting the words like 'the' 'of' 'this' are not really infomative.\n",
    "\n",
    "## Use the NLP library to do Part-of-Speach Tagging"
   ],
   "cell_type": "markdown",
   "metadata": {}
  },
  {
   "source": [
    "# v1 \n",
    "# from com.johnsnowlabs.nlp.pretrained.pipeline.en import BasicPipeline as bp\n",
    "# v2 \n",
    "# import com.johnsnowlabs.nlp.pretrained.PretrainedPipeline\n",
    "# import com.johnsnowlabs.nlp.SparkNLP\n",
    "# v3\n",
    "import sparknlp\n",
    "# ==========================================================\n",
    "from sparknlp.base import *\n",
    "from sparknlp.annotator import *\n",
    "from sparknlp.pretrained import PretrainedPipeline"
   ],
   "cell_type": "code",
   "metadata": {},
   "execution_count": 8,
   "outputs": []
  },
  {
   "cell_type": "code",
   "execution_count": 9,
   "metadata": {},
   "outputs": [],
   "source": [
    "spark = sparknlp.start()"
   ]
  },
  {
   "cell_type": "code",
   "execution_count": 10,
   "metadata": {},
   "outputs": [
    {
     "output_type": "stream",
     "name": "stdout",
     "text": [
      "explain_document_dl download started this may take some time.\n",
      "Approx size to download 169.3 MB\n",
      "[OK!]\n"
     ]
    }
   ],
   "source": [
    "dl = PretrainedPipeline('explain_document_dl', lang='en')"
   ]
  },
  {
   "cell_type": "code",
   "execution_count": 55,
   "metadata": {},
   "outputs": [
    {
     "output_type": "stream",
     "name": "stdout",
     "text": [
      "recognize_entities_dl download started this may take some time.\n",
      "Approx size to download 160.1 MB\n",
      "[OK!]\n"
     ]
    }
   ],
   "source": [
    "# FROM V1 IMPORTS ABOVE\n",
    "\n",
    "# bp = PretrainedPipeline('recognize_entities_dl', lang='en')"
   ]
  },
  {
   "cell_type": "code",
   "execution_count": 11,
   "metadata": {},
   "outputs": [
    {
     "output_type": "stream",
     "name": "stdout",
     "text": [
      "root\n |-- text: string (nullable = true)\n |-- answer: string (nullable = true)\n |-- document: array (nullable = true)\n |    |-- element: struct (containsNull = true)\n |    |    |-- annotatorType: string (nullable = true)\n |    |    |-- begin: integer (nullable = false)\n |    |    |-- end: integer (nullable = false)\n |    |    |-- result: string (nullable = true)\n |    |    |-- metadata: map (nullable = true)\n |    |    |    |-- key: string\n |    |    |    |-- value: string (valueContainsNull = true)\n |    |    |-- embeddings: array (nullable = true)\n |    |    |    |-- element: float (containsNull = false)\n |-- sentence: array (nullable = true)\n |    |-- element: struct (containsNull = true)\n |    |    |-- annotatorType: string (nullable = true)\n |    |    |-- begin: integer (nullable = false)\n |    |    |-- end: integer (nullable = false)\n |    |    |-- result: string (nullable = true)\n |    |    |-- metadata: map (nullable = true)\n |    |    |    |-- key: string\n |    |    |    |-- value: string (valueContainsNull = true)\n |    |    |-- embeddings: array (nullable = true)\n |    |    |    |-- element: float (containsNull = false)\n |-- token: array (nullable = true)\n |    |-- element: struct (containsNull = true)\n |    |    |-- annotatorType: string (nullable = true)\n |    |    |-- begin: integer (nullable = false)\n |    |    |-- end: integer (nullable = false)\n |    |    |-- result: string (nullable = true)\n |    |    |-- metadata: map (nullable = true)\n |    |    |    |-- key: string\n |    |    |    |-- value: string (valueContainsNull = true)\n |    |    |-- embeddings: array (nullable = true)\n |    |    |    |-- element: float (containsNull = false)\n |-- checked: array (nullable = true)\n |    |-- element: struct (containsNull = true)\n |    |    |-- annotatorType: string (nullable = true)\n |    |    |-- begin: integer (nullable = false)\n |    |    |-- end: integer (nullable = false)\n |    |    |-- result: string (nullable = true)\n |    |    |-- metadata: map (nullable = true)\n |    |    |    |-- key: string\n |    |    |    |-- value: string (valueContainsNull = true)\n |    |    |-- embeddings: array (nullable = true)\n |    |    |    |-- element: float (containsNull = false)\n |-- lemma: array (nullable = true)\n |    |-- element: struct (containsNull = true)\n |    |    |-- annotatorType: string (nullable = true)\n |    |    |-- begin: integer (nullable = false)\n |    |    |-- end: integer (nullable = false)\n |    |    |-- result: string (nullable = true)\n |    |    |-- metadata: map (nullable = true)\n |    |    |    |-- key: string\n |    |    |    |-- value: string (valueContainsNull = true)\n |    |    |-- embeddings: array (nullable = true)\n |    |    |    |-- element: float (containsNull = false)\n |-- stem: array (nullable = true)\n |    |-- element: struct (containsNull = true)\n |    |    |-- annotatorType: string (nullable = true)\n |    |    |-- begin: integer (nullable = false)\n |    |    |-- end: integer (nullable = false)\n |    |    |-- result: string (nullable = true)\n |    |    |-- metadata: map (nullable = true)\n |    |    |    |-- key: string\n |    |    |    |-- value: string (valueContainsNull = true)\n |    |    |-- embeddings: array (nullable = true)\n |    |    |    |-- element: float (containsNull = false)\n |-- pos: array (nullable = true)\n |    |-- element: struct (containsNull = true)\n |    |    |-- annotatorType: string (nullable = true)\n |    |    |-- begin: integer (nullable = false)\n |    |    |-- end: integer (nullable = false)\n |    |    |-- result: string (nullable = true)\n |    |    |-- metadata: map (nullable = true)\n |    |    |    |-- key: string\n |    |    |    |-- value: string (valueContainsNull = true)\n |    |    |-- embeddings: array (nullable = true)\n |    |    |    |-- element: float (containsNull = false)\n |-- embeddings: array (nullable = true)\n |    |-- element: struct (containsNull = true)\n |    |    |-- annotatorType: string (nullable = true)\n |    |    |-- begin: integer (nullable = false)\n |    |    |-- end: integer (nullable = false)\n |    |    |-- result: string (nullable = true)\n |    |    |-- metadata: map (nullable = true)\n |    |    |    |-- key: string\n |    |    |    |-- value: string (valueContainsNull = true)\n |    |    |-- embeddings: array (nullable = true)\n |    |    |    |-- element: float (containsNull = false)\n |-- ner: array (nullable = true)\n |    |-- element: struct (containsNull = false)\n |    |    |-- annotatorType: string (nullable = true)\n |    |    |-- begin: integer (nullable = false)\n |    |    |-- end: integer (nullable = false)\n |    |    |-- result: string (nullable = true)\n |    |    |-- metadata: map (nullable = true)\n |    |    |    |-- key: string\n |    |    |    |-- value: string (valueContainsNull = true)\n |    |    |-- embeddings: array (nullable = true)\n |    |    |    |-- element: float (containsNull = false)\n |-- entities: array (nullable = true)\n |    |-- element: struct (containsNull = true)\n |    |    |-- annotatorType: string (nullable = true)\n |    |    |-- begin: integer (nullable = false)\n |    |    |-- end: integer (nullable = false)\n |    |    |-- result: string (nullable = true)\n |    |    |-- metadata: map (nullable = true)\n |    |    |    |-- key: string\n |    |    |    |-- value: string (valueContainsNull = true)\n |    |    |-- embeddings: array (nullable = true)\n |    |    |    |-- element: float (containsNull = false)\n\n"
     ]
    }
   ],
   "source": [
    "dfAnnotated = dl.annotate(df01, \"question\")\n",
    "dfAnnotated.printSchema()"
   ]
  },
  {
   "cell_type": "code",
   "execution_count": 41,
   "metadata": {},
   "outputs": [
    {
     "output_type": "stream",
     "name": "stdout",
     "text": [
      "root\n |-- text: string (nullable = true)\n |-- answer: string (nullable = true)\n |-- document: array (nullable = true)\n |    |-- element: struct (containsNull = true)\n |    |    |-- annotatorType: string (nullable = true)\n |    |    |-- begin: integer (nullable = false)\n |    |    |-- end: integer (nullable = false)\n |    |    |-- result: string (nullable = true)\n |    |    |-- metadata: map (nullable = true)\n |    |    |    |-- key: string\n |    |    |    |-- value: string (valueContainsNull = true)\n |    |    |-- embeddings: array (nullable = true)\n |    |    |    |-- element: float (containsNull = false)\n |-- sentence: array (nullable = true)\n |    |-- element: struct (containsNull = true)\n |    |    |-- annotatorType: string (nullable = true)\n |    |    |-- begin: integer (nullable = false)\n |    |    |-- end: integer (nullable = false)\n |    |    |-- result: string (nullable = true)\n |    |    |-- metadata: map (nullable = true)\n |    |    |    |-- key: string\n |    |    |    |-- value: string (valueContainsNull = true)\n |    |    |-- embeddings: array (nullable = true)\n |    |    |    |-- element: float (containsNull = false)\n |-- token: array (nullable = true)\n |    |-- element: struct (containsNull = true)\n |    |    |-- annotatorType: string (nullable = true)\n |    |    |-- begin: integer (nullable = false)\n |    |    |-- end: integer (nullable = false)\n |    |    |-- result: string (nullable = true)\n |    |    |-- metadata: map (nullable = true)\n |    |    |    |-- key: string\n |    |    |    |-- value: string (valueContainsNull = true)\n |    |    |-- embeddings: array (nullable = true)\n |    |    |    |-- element: float (containsNull = false)\n |-- embeddings: array (nullable = true)\n |    |-- element: struct (containsNull = true)\n |    |    |-- annotatorType: string (nullable = true)\n |    |    |-- begin: integer (nullable = false)\n |    |    |-- end: integer (nullable = false)\n |    |    |-- result: string (nullable = true)\n |    |    |-- metadata: map (nullable = true)\n |    |    |    |-- key: string\n |    |    |    |-- value: string (valueContainsNull = true)\n |    |    |-- embeddings: array (nullable = true)\n |    |    |    |-- element: float (containsNull = false)\n |-- ner: array (nullable = true)\n |    |-- element: struct (containsNull = false)\n |    |    |-- annotatorType: string (nullable = true)\n |    |    |-- begin: integer (nullable = false)\n |    |    |-- end: integer (nullable = false)\n |    |    |-- result: string (nullable = true)\n |    |    |-- metadata: map (nullable = true)\n |    |    |    |-- key: string\n |    |    |    |-- value: string (valueContainsNull = true)\n |    |    |-- embeddings: array (nullable = true)\n |    |    |    |-- element: float (containsNull = false)\n |-- entities: array (nullable = true)\n |    |-- element: struct (containsNull = true)\n |    |    |-- annotatorType: string (nullable = true)\n |    |    |-- begin: integer (nullable = false)\n |    |    |-- end: integer (nullable = false)\n |    |    |-- result: string (nullable = true)\n |    |    |-- metadata: map (nullable = true)\n |    |    |    |-- key: string\n |    |    |    |-- value: string (valueContainsNull = true)\n |    |    |-- embeddings: array (nullable = true)\n |    |    |    |-- element: float (containsNull = false)\n\n"
     ]
    }
   ],
   "source": [
    "# FROM V1 IMPORTS ABOVE\n",
    "\n",
    "# dfAnnotatedbp = bp.annotate(df01, \"question\")\n",
    "# dfAnnotatedbp.printSchema()"
   ]
  },
  {
   "source": [
    "## Deal with Map type to query subfields"
   ],
   "cell_type": "markdown",
   "metadata": {}
  },
  {
   "cell_type": "code",
   "execution_count": 12,
   "metadata": {},
   "outputs": [
    {
     "output_type": "execute_result",
     "data": {
      "text/plain": [
       "                                                                                                            text  \\\n",
       "0             'For the last 8 years of his life, Galileo was under house arrest for espousing this man's theory'   \n",
       "1  'No. 2: 1912 Olympian; football star at Carlisle Indian School; 6 MLB seasons with the Reds, Giants & Braves'   \n",
       "2                     'The city of Yuma in this state has a record average of 4,055 hours of sunshine each year'   \n",
       "3                         'In 1963, live on \"The Art Linkletter Show\", this company served its billionth burger'   \n",
       "4     'Signer of the Dec. of Indep., framer of the Constitution of Mass., second President of the United States'   \n",
       "\n",
       "                                                                                                                                                                                                                                                                                                                                                                                                                                                                  metadata  \\\n",
       "0                                                                                  [{'word': '''}, {'word': 'For'}, {'word': 'the'}, {'word': 'last'}, {'word': '8'}, {'word': 'years'}, {'word': 'of'}, {'word': 'his'}, {'word': 'life'}, {'word': ','}, {'word': 'Galileo'}, {'word': 'was'}, {'word': 'under'}, {'word': 'house'}, {'word': 'arrest'}, {'word': 'for'}, {'word': 'espousing'}, {'word': 'this'}, {'word': 'man's'}, {'word': 'theory'}, {'word': '''}]   \n",
       "1  [{'word': '''}, {'word': 'No'}, {'word': '.'}, {'word': '2'}, {'word': ':'}, {'word': '1912'}, {'word': 'Olympian'}, {'word': ';'}, {'word': 'football'}, {'word': 'star'}, {'word': 'at'}, {'word': 'Carlisle'}, {'word': 'Indian'}, {'word': 'School'}, {'word': ';'}, {'word': '6'}, {'word': 'MLB'}, {'word': 'seasons'}, {'word': 'with'}, {'word': 'the'}, {'word': 'Reds'}, {'word': ','}, {'word': 'Giants'}, {'word': '&'}, {'word': 'Braves'}, {'word': '''}]   \n",
       "2                                                                                                        [{'word': '''}, {'word': 'The'}, {'word': 'city'}, {'word': 'of'}, {'word': 'Yuma'}, {'word': 'in'}, {'word': 'this'}, {'word': 'state'}, {'word': 'has'}, {'word': 'a'}, {'word': 'record'}, {'word': 'average'}, {'word': 'of'}, {'word': '4,055'}, {'word': 'hours'}, {'word': 'of'}, {'word': 'sunshine'}, {'word': 'each'}, {'word': 'year'}, {'word': '''}]   \n",
       "3                                                                                                                      [{'word': '''}, {'word': 'In'}, {'word': '1963'}, {'word': ','}, {'word': 'live'}, {'word': 'on'}, {'word': '\"'}, {'word': 'The'}, {'word': 'Art'}, {'word': 'Linkletter'}, {'word': 'Show'}, {'word': '\",'}, {'word': 'this'}, {'word': 'company'}, {'word': 'served'}, {'word': 'its'}, {'word': 'billionth'}, {'word': 'burger'}, {'word': '''}]   \n",
       "4                  [{'word': '''}, {'word': 'Signer'}, {'word': 'of'}, {'word': 'the'}, {'word': 'Dec'}, {'word': '.'}, {'word': 'of'}, {'word': 'Indep'}, {'word': '.'}, {'word': ','}, {'word': 'framer'}, {'word': 'of'}, {'word': 'the'}, {'word': 'Constitution'}, {'word': 'of'}, {'word': 'Mass'}, {'word': '.'}, {'word': ','}, {'word': 'second'}, {'word': 'President'}, {'word': 'of'}, {'word': 'the'}, {'word': 'United'}, {'word': 'States'}, {'word': '''}]   \n",
       "\n",
       "                                                                                                          result  \n",
       "0                     [POS, IN, DT, JJ, CD, NNS, IN, PRP$, NN, ,, NNP, VBD, IN, NN, NN, IN, VBG, DT, NN, NN, '']  \n",
       "1  [POS, DT, ., CD, :, CD, NNP, :, NN, NN, IN, NNP, JJ, NNP, :, CD, NNP, NNS, IN, DT, NNP, ,, NNP, CC, NNP, POS]  \n",
       "2                           [POS, DT, NN, IN, NNP, IN, DT, NN, VBZ, DT, NN, NN, IN, CD, NNS, IN, NN, DT, NN, '']  \n",
       "3                           [POS, IN, CD, ,, VBP, IN, '', DT, NNP, NNP, NNP, NNP, DT, NN, VBD, PRP$, NN, NN, '']  \n",
       "4     [POS, NNP, IN, DT, NNP, ., IN, NNP, ., ,, NN, IN, DT, NNP, IN, NNP, ., ,, JJ, NNP, IN, DT, NNP, NNPS, POS]  "
      ],
      "text/html": "<div>\n<style scoped>\n    .dataframe tbody tr th:only-of-type {\n        vertical-align: middle;\n    }\n\n    .dataframe tbody tr th {\n        vertical-align: top;\n    }\n\n    .dataframe thead th {\n        text-align: right;\n    }\n</style>\n<table border=\"1\" class=\"dataframe\">\n  <thead>\n    <tr style=\"text-align: right;\">\n      <th></th>\n      <th>text</th>\n      <th>metadata</th>\n      <th>result</th>\n    </tr>\n  </thead>\n  <tbody>\n    <tr>\n      <th>0</th>\n      <td>'For the last 8 years of his life, Galileo was under house arrest for espousing this man's theory'</td>\n      <td>[{'word': '''}, {'word': 'For'}, {'word': 'the'}, {'word': 'last'}, {'word': '8'}, {'word': 'years'}, {'word': 'of'}, {'word': 'his'}, {'word': 'life'}, {'word': ','}, {'word': 'Galileo'}, {'word': 'was'}, {'word': 'under'}, {'word': 'house'}, {'word': 'arrest'}, {'word': 'for'}, {'word': 'espousing'}, {'word': 'this'}, {'word': 'man's'}, {'word': 'theory'}, {'word': '''}]</td>\n      <td>[POS, IN, DT, JJ, CD, NNS, IN, PRP$, NN, ,, NNP, VBD, IN, NN, NN, IN, VBG, DT, NN, NN, '']</td>\n    </tr>\n    <tr>\n      <th>1</th>\n      <td>'No. 2: 1912 Olympian; football star at Carlisle Indian School; 6 MLB seasons with the Reds, Giants &amp; Braves'</td>\n      <td>[{'word': '''}, {'word': 'No'}, {'word': '.'}, {'word': '2'}, {'word': ':'}, {'word': '1912'}, {'word': 'Olympian'}, {'word': ';'}, {'word': 'football'}, {'word': 'star'}, {'word': 'at'}, {'word': 'Carlisle'}, {'word': 'Indian'}, {'word': 'School'}, {'word': ';'}, {'word': '6'}, {'word': 'MLB'}, {'word': 'seasons'}, {'word': 'with'}, {'word': 'the'}, {'word': 'Reds'}, {'word': ','}, {'word': 'Giants'}, {'word': '&amp;'}, {'word': 'Braves'}, {'word': '''}]</td>\n      <td>[POS, DT, ., CD, :, CD, NNP, :, NN, NN, IN, NNP, JJ, NNP, :, CD, NNP, NNS, IN, DT, NNP, ,, NNP, CC, NNP, POS]</td>\n    </tr>\n    <tr>\n      <th>2</th>\n      <td>'The city of Yuma in this state has a record average of 4,055 hours of sunshine each year'</td>\n      <td>[{'word': '''}, {'word': 'The'}, {'word': 'city'}, {'word': 'of'}, {'word': 'Yuma'}, {'word': 'in'}, {'word': 'this'}, {'word': 'state'}, {'word': 'has'}, {'word': 'a'}, {'word': 'record'}, {'word': 'average'}, {'word': 'of'}, {'word': '4,055'}, {'word': 'hours'}, {'word': 'of'}, {'word': 'sunshine'}, {'word': 'each'}, {'word': 'year'}, {'word': '''}]</td>\n      <td>[POS, DT, NN, IN, NNP, IN, DT, NN, VBZ, DT, NN, NN, IN, CD, NNS, IN, NN, DT, NN, '']</td>\n    </tr>\n    <tr>\n      <th>3</th>\n      <td>'In 1963, live on \"The Art Linkletter Show\", this company served its billionth burger'</td>\n      <td>[{'word': '''}, {'word': 'In'}, {'word': '1963'}, {'word': ','}, {'word': 'live'}, {'word': 'on'}, {'word': '\"'}, {'word': 'The'}, {'word': 'Art'}, {'word': 'Linkletter'}, {'word': 'Show'}, {'word': '\",'}, {'word': 'this'}, {'word': 'company'}, {'word': 'served'}, {'word': 'its'}, {'word': 'billionth'}, {'word': 'burger'}, {'word': '''}]</td>\n      <td>[POS, IN, CD, ,, VBP, IN, '', DT, NNP, NNP, NNP, NNP, DT, NN, VBD, PRP$, NN, NN, '']</td>\n    </tr>\n    <tr>\n      <th>4</th>\n      <td>'Signer of the Dec. of Indep., framer of the Constitution of Mass., second President of the United States'</td>\n      <td>[{'word': '''}, {'word': 'Signer'}, {'word': 'of'}, {'word': 'the'}, {'word': 'Dec'}, {'word': '.'}, {'word': 'of'}, {'word': 'Indep'}, {'word': '.'}, {'word': ','}, {'word': 'framer'}, {'word': 'of'}, {'word': 'the'}, {'word': 'Constitution'}, {'word': 'of'}, {'word': 'Mass'}, {'word': '.'}, {'word': ','}, {'word': 'second'}, {'word': 'President'}, {'word': 'of'}, {'word': 'the'}, {'word': 'United'}, {'word': 'States'}, {'word': '''}]</td>\n      <td>[POS, NNP, IN, DT, NNP, ., IN, NNP, ., ,, NN, IN, DT, NNP, IN, NNP, ., ,, JJ, NNP, IN, DT, NNP, NNPS, POS]</td>\n    </tr>\n  </tbody>\n</table>\n</div>"
     },
     "metadata": {},
     "execution_count": 12
    }
   ],
   "source": [
    "dfPos = dfAnnotated.select(\"text\", \"pos.metadata\", \"pos.result\")\n",
    "dfPos.limit(5).toPandas()"
   ]
  },
  {
   "cell_type": "code",
   "execution_count": 13,
   "metadata": {},
   "outputs": [
    {
     "output_type": "stream",
     "name": "stdout",
     "text": [
      "root\n |-- pos: struct (nullable = true)\n |    |-- annotatorType: string (nullable = true)\n |    |-- begin: integer (nullable = false)\n |    |-- end: integer (nullable = false)\n |    |-- result: string (nullable = true)\n |    |-- metadata: map (nullable = true)\n |    |    |-- key: string\n |    |    |-- value: string (valueContainsNull = true)\n |    |-- embeddings: array (nullable = true)\n |    |    |-- element: float (containsNull = false)\n\n"
     ]
    },
    {
     "output_type": "execute_result",
     "data": {
      "text/plain": [
       "                                                   pos\n",
       "0                  (pos, 0, 0, POS, {'word': '''}, [])\n",
       "1                 (pos, 1, 3, IN, {'word': 'For'}, [])\n",
       "2                 (pos, 5, 7, DT, {'word': 'the'}, [])\n",
       "3               (pos, 9, 12, JJ, {'word': 'last'}, [])\n",
       "4                 (pos, 14, 14, CD, {'word': '8'}, [])\n",
       "...                                                ...\n",
       "3915996          (pos, 82, 83, IN, {'word': 'of'}, [])\n",
       "3915997  (pos, 85, 93, NNP, {'word': 'Catherine'}, [])\n",
       "3915998         (pos, 95, 97, DT, {'word': 'the'}, [])\n",
       "3915999     (pos, 99, 103, NNP, {'word': 'Great'}, [])\n",
       "3916000        (pos, 104, 104, POS, {'word': '''}, [])\n",
       "\n",
       "[3916001 rows x 1 columns]"
      ],
      "text/html": "<div>\n<style scoped>\n    .dataframe tbody tr th:only-of-type {\n        vertical-align: middle;\n    }\n\n    .dataframe tbody tr th {\n        vertical-align: top;\n    }\n\n    .dataframe thead th {\n        text-align: right;\n    }\n</style>\n<table border=\"1\" class=\"dataframe\">\n  <thead>\n    <tr style=\"text-align: right;\">\n      <th></th>\n      <th>pos</th>\n    </tr>\n  </thead>\n  <tbody>\n    <tr>\n      <th>0</th>\n      <td>(pos, 0, 0, POS, {'word': '''}, [])</td>\n    </tr>\n    <tr>\n      <th>1</th>\n      <td>(pos, 1, 3, IN, {'word': 'For'}, [])</td>\n    </tr>\n    <tr>\n      <th>2</th>\n      <td>(pos, 5, 7, DT, {'word': 'the'}, [])</td>\n    </tr>\n    <tr>\n      <th>3</th>\n      <td>(pos, 9, 12, JJ, {'word': 'last'}, [])</td>\n    </tr>\n    <tr>\n      <th>4</th>\n      <td>(pos, 14, 14, CD, {'word': '8'}, [])</td>\n    </tr>\n    <tr>\n      <th>...</th>\n      <td>...</td>\n    </tr>\n    <tr>\n      <th>3915996</th>\n      <td>(pos, 82, 83, IN, {'word': 'of'}, [])</td>\n    </tr>\n    <tr>\n      <th>3915997</th>\n      <td>(pos, 85, 93, NNP, {'word': 'Catherine'}, [])</td>\n    </tr>\n    <tr>\n      <th>3915998</th>\n      <td>(pos, 95, 97, DT, {'word': 'the'}, [])</td>\n    </tr>\n    <tr>\n      <th>3915999</th>\n      <td>(pos, 99, 103, NNP, {'word': 'Great'}, [])</td>\n    </tr>\n    <tr>\n      <th>3916000</th>\n      <td>(pos, 104, 104, POS, {'word': '''}, [])</td>\n    </tr>\n  </tbody>\n</table>\n<p>3916001 rows × 1 columns</p>\n</div>"
     },
     "metadata": {},
     "execution_count": 13
    }
   ],
   "source": [
    "dfPos= dfAnnotated.select(f.explode(\"pos\").alias(\"pos\"))\n",
    "dfPos.printSchema()\n",
    "dfPos.toPandas()"
   ]
  },
  {
   "cell_type": "code",
   "execution_count": 14,
   "metadata": {},
   "outputs": [
    {
     "output_type": "execute_result",
     "data": {
      "text/plain": [
       "                                            pos\n",
       "0   (pos, 35, 41, NNP, {'word': 'Galileo'}, [])\n",
       "1  (pos, 13, 20, NNP, {'word': 'Olympian'}, [])\n",
       "2  (pos, 40, 47, NNP, {'word': 'Carlisle'}, [])\n",
       "3    (pos, 56, 61, NNP, {'word': 'School'}, [])\n",
       "4       (pos, 66, 68, NNP, {'word': 'MLB'}, [])\n",
       "5      (pos, 87, 90, NNP, {'word': 'Reds'}, [])\n",
       "6    (pos, 93, 98, NNP, {'word': 'Giants'}, [])\n",
       "7  (pos, 102, 107, NNP, {'word': 'Braves'}, [])\n",
       "8      (pos, 13, 16, NNP, {'word': 'Yuma'}, [])\n",
       "9       (pos, 23, 25, NNP, {'word': 'Art'}, [])"
      ],
      "text/html": "<div>\n<style scoped>\n    .dataframe tbody tr th:only-of-type {\n        vertical-align: middle;\n    }\n\n    .dataframe tbody tr th {\n        vertical-align: top;\n    }\n\n    .dataframe thead th {\n        text-align: right;\n    }\n</style>\n<table border=\"1\" class=\"dataframe\">\n  <thead>\n    <tr style=\"text-align: right;\">\n      <th></th>\n      <th>pos</th>\n    </tr>\n  </thead>\n  <tbody>\n    <tr>\n      <th>0</th>\n      <td>(pos, 35, 41, NNP, {'word': 'Galileo'}, [])</td>\n    </tr>\n    <tr>\n      <th>1</th>\n      <td>(pos, 13, 20, NNP, {'word': 'Olympian'}, [])</td>\n    </tr>\n    <tr>\n      <th>2</th>\n      <td>(pos, 40, 47, NNP, {'word': 'Carlisle'}, [])</td>\n    </tr>\n    <tr>\n      <th>3</th>\n      <td>(pos, 56, 61, NNP, {'word': 'School'}, [])</td>\n    </tr>\n    <tr>\n      <th>4</th>\n      <td>(pos, 66, 68, NNP, {'word': 'MLB'}, [])</td>\n    </tr>\n    <tr>\n      <th>5</th>\n      <td>(pos, 87, 90, NNP, {'word': 'Reds'}, [])</td>\n    </tr>\n    <tr>\n      <th>6</th>\n      <td>(pos, 93, 98, NNP, {'word': 'Giants'}, [])</td>\n    </tr>\n    <tr>\n      <th>7</th>\n      <td>(pos, 102, 107, NNP, {'word': 'Braves'}, [])</td>\n    </tr>\n    <tr>\n      <th>8</th>\n      <td>(pos, 13, 16, NNP, {'word': 'Yuma'}, [])</td>\n    </tr>\n    <tr>\n      <th>9</th>\n      <td>(pos, 23, 25, NNP, {'word': 'Art'}, [])</td>\n    </tr>\n  </tbody>\n</table>\n</div>"
     },
     "metadata": {},
     "execution_count": 14
    }
   ],
   "source": [
    "nnpFilter = \"pos.result = 'NNP' or pos.result = 'NNPS'\"\n",
    "dfNNP = dfPos.where(nnpFilter)\n",
    "dfNNP.limit(10).toPandas()"
   ]
  },
  {
   "source": [
    "## Extract columns from a map in a col"
   ],
   "cell_type": "markdown",
   "metadata": {}
  },
  {
   "cell_type": "code",
   "execution_count": 15,
   "metadata": {},
   "outputs": [
    {
     "output_type": "execute_result",
     "data": {
      "text/plain": [
       "       word  tag\n",
       "0   Galileo  NNP\n",
       "1  Olympian  NNP\n",
       "2  Carlisle  NNP\n",
       "3    School  NNP\n",
       "4       MLB  NNP\n",
       "5      Reds  NNP\n",
       "6    Giants  NNP\n",
       "7    Braves  NNP\n",
       "8      Yuma  NNP\n",
       "9       Art  NNP"
      ],
      "text/html": "<div>\n<style scoped>\n    .dataframe tbody tr th:only-of-type {\n        vertical-align: middle;\n    }\n\n    .dataframe tbody tr th {\n        vertical-align: top;\n    }\n\n    .dataframe thead th {\n        text-align: right;\n    }\n</style>\n<table border=\"1\" class=\"dataframe\">\n  <thead>\n    <tr style=\"text-align: right;\">\n      <th></th>\n      <th>word</th>\n      <th>tag</th>\n    </tr>\n  </thead>\n  <tbody>\n    <tr>\n      <th>0</th>\n      <td>Galileo</td>\n      <td>NNP</td>\n    </tr>\n    <tr>\n      <th>1</th>\n      <td>Olympian</td>\n      <td>NNP</td>\n    </tr>\n    <tr>\n      <th>2</th>\n      <td>Carlisle</td>\n      <td>NNP</td>\n    </tr>\n    <tr>\n      <th>3</th>\n      <td>School</td>\n      <td>NNP</td>\n    </tr>\n    <tr>\n      <th>4</th>\n      <td>MLB</td>\n      <td>NNP</td>\n    </tr>\n    <tr>\n      <th>5</th>\n      <td>Reds</td>\n      <td>NNP</td>\n    </tr>\n    <tr>\n      <th>6</th>\n      <td>Giants</td>\n      <td>NNP</td>\n    </tr>\n    <tr>\n      <th>7</th>\n      <td>Braves</td>\n      <td>NNP</td>\n    </tr>\n    <tr>\n      <th>8</th>\n      <td>Yuma</td>\n      <td>NNP</td>\n    </tr>\n    <tr>\n      <th>9</th>\n      <td>Art</td>\n      <td>NNP</td>\n    </tr>\n  </tbody>\n</table>\n</div>"
     },
     "metadata": {},
     "execution_count": 15
    }
   ],
   "source": [
    "dfWordTag = dfNNP.selectExpr(\"pos.metadata['word'] as word\", \"pos.result as tag\")\n",
    "dfWordTag.limit(10).toPandas()"
   ]
  },
  {
   "cell_type": "code",
   "execution_count": 27,
   "metadata": {},
   "outputs": [
    {
     "output_type": "error",
     "ename": "KeyboardInterrupt",
     "evalue": "",
     "traceback": [
      "\u001b[0;31m---------------------------------------------------------------------------\u001b[0m",
      "\u001b[0;31mKeyboardInterrupt\u001b[0m                         Traceback (most recent call last)",
      "\u001b[0;32m<ipython-input-27-b20ed56b00ba>\u001b[0m in \u001b[0;36m<module>\u001b[0;34m\u001b[0m\n\u001b[1;32m      1\u001b[0m \u001b[0;32mfrom\u001b[0m \u001b[0mpyspark\u001b[0m\u001b[0;34m.\u001b[0m\u001b[0msql\u001b[0m\u001b[0;34m.\u001b[0m\u001b[0mfunctions\u001b[0m \u001b[0;32mimport\u001b[0m \u001b[0mdesc\u001b[0m\u001b[0;34m\u001b[0m\u001b[0;34m\u001b[0m\u001b[0m\n\u001b[0;32m----> 2\u001b[0;31m \u001b[0mdfWordTag\u001b[0m\u001b[0;34m.\u001b[0m\u001b[0mgroupBy\u001b[0m\u001b[0;34m(\u001b[0m\u001b[0;34m\"word\"\u001b[0m\u001b[0;34m)\u001b[0m\u001b[0;34m.\u001b[0m\u001b[0mcount\u001b[0m\u001b[0;34m(\u001b[0m\u001b[0;34m)\u001b[0m\u001b[0;34m.\u001b[0m\u001b[0morderBy\u001b[0m\u001b[0;34m(\u001b[0m\u001b[0mdesc\u001b[0m\u001b[0;34m(\u001b[0m\u001b[0;34m\"count\"\u001b[0m\u001b[0;34m)\u001b[0m\u001b[0;34m)\u001b[0m\u001b[0;34m.\u001b[0m\u001b[0mshow\u001b[0m\u001b[0;34m(\u001b[0m\u001b[0;34m)\u001b[0m\u001b[0;34m\u001b[0m\u001b[0;34m\u001b[0m\u001b[0m\n\u001b[0m",
      "\u001b[0;32m~/.pyenv/versions/3.9.1/lib/python3.9/site-packages/pyspark/sql/dataframe.py\u001b[0m in \u001b[0;36mshow\u001b[0;34m(self, n, truncate, vertical)\u001b[0m\n\u001b[1;32m    438\u001b[0m         \"\"\"\n\u001b[1;32m    439\u001b[0m         \u001b[0;32mif\u001b[0m \u001b[0misinstance\u001b[0m\u001b[0;34m(\u001b[0m\u001b[0mtruncate\u001b[0m\u001b[0;34m,\u001b[0m \u001b[0mbool\u001b[0m\u001b[0;34m)\u001b[0m \u001b[0;32mand\u001b[0m \u001b[0mtruncate\u001b[0m\u001b[0;34m:\u001b[0m\u001b[0;34m\u001b[0m\u001b[0;34m\u001b[0m\u001b[0m\n\u001b[0;32m--> 440\u001b[0;31m             \u001b[0mprint\u001b[0m\u001b[0;34m(\u001b[0m\u001b[0mself\u001b[0m\u001b[0;34m.\u001b[0m\u001b[0m_jdf\u001b[0m\u001b[0;34m.\u001b[0m\u001b[0mshowString\u001b[0m\u001b[0;34m(\u001b[0m\u001b[0mn\u001b[0m\u001b[0;34m,\u001b[0m \u001b[0;36m20\u001b[0m\u001b[0;34m,\u001b[0m \u001b[0mvertical\u001b[0m\u001b[0;34m)\u001b[0m\u001b[0;34m)\u001b[0m\u001b[0;34m\u001b[0m\u001b[0;34m\u001b[0m\u001b[0m\n\u001b[0m\u001b[1;32m    441\u001b[0m         \u001b[0;32melse\u001b[0m\u001b[0;34m:\u001b[0m\u001b[0;34m\u001b[0m\u001b[0;34m\u001b[0m\u001b[0m\n\u001b[1;32m    442\u001b[0m             \u001b[0mprint\u001b[0m\u001b[0;34m(\u001b[0m\u001b[0mself\u001b[0m\u001b[0;34m.\u001b[0m\u001b[0m_jdf\u001b[0m\u001b[0;34m.\u001b[0m\u001b[0mshowString\u001b[0m\u001b[0;34m(\u001b[0m\u001b[0mn\u001b[0m\u001b[0;34m,\u001b[0m \u001b[0mint\u001b[0m\u001b[0;34m(\u001b[0m\u001b[0mtruncate\u001b[0m\u001b[0;34m)\u001b[0m\u001b[0;34m,\u001b[0m \u001b[0mvertical\u001b[0m\u001b[0;34m)\u001b[0m\u001b[0;34m)\u001b[0m\u001b[0;34m\u001b[0m\u001b[0;34m\u001b[0m\u001b[0m\n",
      "\u001b[0;32m~/.pyenv/versions/3.9.1/lib/python3.9/site-packages/py4j/java_gateway.py\u001b[0m in \u001b[0;36m__call__\u001b[0;34m(self, *args)\u001b[0m\n\u001b[1;32m   1301\u001b[0m             \u001b[0mproto\u001b[0m\u001b[0;34m.\u001b[0m\u001b[0mEND_COMMAND_PART\u001b[0m\u001b[0;34m\u001b[0m\u001b[0;34m\u001b[0m\u001b[0m\n\u001b[1;32m   1302\u001b[0m \u001b[0;34m\u001b[0m\u001b[0m\n\u001b[0;32m-> 1303\u001b[0;31m         \u001b[0manswer\u001b[0m \u001b[0;34m=\u001b[0m \u001b[0mself\u001b[0m\u001b[0;34m.\u001b[0m\u001b[0mgateway_client\u001b[0m\u001b[0;34m.\u001b[0m\u001b[0msend_command\u001b[0m\u001b[0;34m(\u001b[0m\u001b[0mcommand\u001b[0m\u001b[0;34m)\u001b[0m\u001b[0;34m\u001b[0m\u001b[0;34m\u001b[0m\u001b[0m\n\u001b[0m\u001b[1;32m   1304\u001b[0m         return_value = get_return_value(\n\u001b[1;32m   1305\u001b[0m             answer, self.gateway_client, self.target_id, self.name)\n",
      "\u001b[0;32m~/.pyenv/versions/3.9.1/lib/python3.9/site-packages/py4j/java_gateway.py\u001b[0m in \u001b[0;36msend_command\u001b[0;34m(self, command, retry, binary)\u001b[0m\n\u001b[1;32m   1031\u001b[0m         \u001b[0mconnection\u001b[0m \u001b[0;34m=\u001b[0m \u001b[0mself\u001b[0m\u001b[0;34m.\u001b[0m\u001b[0m_get_connection\u001b[0m\u001b[0;34m(\u001b[0m\u001b[0;34m)\u001b[0m\u001b[0;34m\u001b[0m\u001b[0;34m\u001b[0m\u001b[0m\n\u001b[1;32m   1032\u001b[0m         \u001b[0;32mtry\u001b[0m\u001b[0;34m:\u001b[0m\u001b[0;34m\u001b[0m\u001b[0;34m\u001b[0m\u001b[0m\n\u001b[0;32m-> 1033\u001b[0;31m             \u001b[0mresponse\u001b[0m \u001b[0;34m=\u001b[0m \u001b[0mconnection\u001b[0m\u001b[0;34m.\u001b[0m\u001b[0msend_command\u001b[0m\u001b[0;34m(\u001b[0m\u001b[0mcommand\u001b[0m\u001b[0;34m)\u001b[0m\u001b[0;34m\u001b[0m\u001b[0;34m\u001b[0m\u001b[0m\n\u001b[0m\u001b[1;32m   1034\u001b[0m             \u001b[0;32mif\u001b[0m \u001b[0mbinary\u001b[0m\u001b[0;34m:\u001b[0m\u001b[0;34m\u001b[0m\u001b[0;34m\u001b[0m\u001b[0m\n\u001b[1;32m   1035\u001b[0m                 \u001b[0;32mreturn\u001b[0m \u001b[0mresponse\u001b[0m\u001b[0;34m,\u001b[0m \u001b[0mself\u001b[0m\u001b[0;34m.\u001b[0m\u001b[0m_create_connection_guard\u001b[0m\u001b[0;34m(\u001b[0m\u001b[0mconnection\u001b[0m\u001b[0;34m)\u001b[0m\u001b[0;34m\u001b[0m\u001b[0;34m\u001b[0m\u001b[0m\n",
      "\u001b[0;32m~/.pyenv/versions/3.9.1/lib/python3.9/site-packages/py4j/java_gateway.py\u001b[0m in \u001b[0;36msend_command\u001b[0;34m(self, command)\u001b[0m\n\u001b[1;32m   1198\u001b[0m \u001b[0;34m\u001b[0m\u001b[0m\n\u001b[1;32m   1199\u001b[0m         \u001b[0;32mtry\u001b[0m\u001b[0;34m:\u001b[0m\u001b[0;34m\u001b[0m\u001b[0;34m\u001b[0m\u001b[0m\n\u001b[0;32m-> 1200\u001b[0;31m             \u001b[0manswer\u001b[0m \u001b[0;34m=\u001b[0m \u001b[0msmart_decode\u001b[0m\u001b[0;34m(\u001b[0m\u001b[0mself\u001b[0m\u001b[0;34m.\u001b[0m\u001b[0mstream\u001b[0m\u001b[0;34m.\u001b[0m\u001b[0mreadline\u001b[0m\u001b[0;34m(\u001b[0m\u001b[0;34m)\u001b[0m\u001b[0;34m[\u001b[0m\u001b[0;34m:\u001b[0m\u001b[0;34m-\u001b[0m\u001b[0;36m1\u001b[0m\u001b[0;34m]\u001b[0m\u001b[0;34m)\u001b[0m\u001b[0;34m\u001b[0m\u001b[0;34m\u001b[0m\u001b[0m\n\u001b[0m\u001b[1;32m   1201\u001b[0m             \u001b[0mlogger\u001b[0m\u001b[0;34m.\u001b[0m\u001b[0mdebug\u001b[0m\u001b[0;34m(\u001b[0m\u001b[0;34m\"Answer received: {0}\"\u001b[0m\u001b[0;34m.\u001b[0m\u001b[0mformat\u001b[0m\u001b[0;34m(\u001b[0m\u001b[0manswer\u001b[0m\u001b[0;34m)\u001b[0m\u001b[0;34m)\u001b[0m\u001b[0;34m\u001b[0m\u001b[0;34m\u001b[0m\u001b[0m\n\u001b[1;32m   1202\u001b[0m             \u001b[0;32mif\u001b[0m \u001b[0manswer\u001b[0m\u001b[0;34m.\u001b[0m\u001b[0mstartswith\u001b[0m\u001b[0;34m(\u001b[0m\u001b[0mproto\u001b[0m\u001b[0;34m.\u001b[0m\u001b[0mRETURN_MESSAGE\u001b[0m\u001b[0;34m)\u001b[0m\u001b[0;34m:\u001b[0m\u001b[0;34m\u001b[0m\u001b[0;34m\u001b[0m\u001b[0m\n",
      "\u001b[0;32m~/.pyenv/versions/3.9.1/lib/python3.9/socket.py\u001b[0m in \u001b[0;36mreadinto\u001b[0;34m(self, b)\u001b[0m\n\u001b[1;32m    702\u001b[0m         \u001b[0;32mwhile\u001b[0m \u001b[0;32mTrue\u001b[0m\u001b[0;34m:\u001b[0m\u001b[0;34m\u001b[0m\u001b[0;34m\u001b[0m\u001b[0m\n\u001b[1;32m    703\u001b[0m             \u001b[0;32mtry\u001b[0m\u001b[0;34m:\u001b[0m\u001b[0;34m\u001b[0m\u001b[0;34m\u001b[0m\u001b[0m\n\u001b[0;32m--> 704\u001b[0;31m                 \u001b[0;32mreturn\u001b[0m \u001b[0mself\u001b[0m\u001b[0;34m.\u001b[0m\u001b[0m_sock\u001b[0m\u001b[0;34m.\u001b[0m\u001b[0mrecv_into\u001b[0m\u001b[0;34m(\u001b[0m\u001b[0mb\u001b[0m\u001b[0;34m)\u001b[0m\u001b[0;34m\u001b[0m\u001b[0;34m\u001b[0m\u001b[0m\n\u001b[0m\u001b[1;32m    705\u001b[0m             \u001b[0;32mexcept\u001b[0m \u001b[0mtimeout\u001b[0m\u001b[0;34m:\u001b[0m\u001b[0;34m\u001b[0m\u001b[0;34m\u001b[0m\u001b[0m\n\u001b[1;32m    706\u001b[0m                 \u001b[0mself\u001b[0m\u001b[0;34m.\u001b[0m\u001b[0m_timeout_occurred\u001b[0m \u001b[0;34m=\u001b[0m \u001b[0;32mTrue\u001b[0m\u001b[0;34m\u001b[0m\u001b[0;34m\u001b[0m\u001b[0m\n",
      "\u001b[0;31mKeyboardInterrupt\u001b[0m: "
     ]
    }
   ],
   "source": [
    "from pyspark.sql.functions import desc\n",
    "dfWordTag.groupBy(\"word\").count().orderBy(desc(\"count\")).show()"
   ]
  },
  {
   "cell_type": "code",
   "execution_count": null,
   "metadata": {},
   "outputs": [],
   "source": []
  }
 ]
}